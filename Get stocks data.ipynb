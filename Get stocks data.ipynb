{
 "cells": [
  {
   "cell_type": "markdown",
   "id": "0c673324",
   "metadata": {},
   "source": [
    "# Get Stock Prices Daily Data\n",
    "\n",
    "Download Components\n",
    "\n",
    "Download CSV of components from this [link](https://www.ishares.com/us/products/239726/ishares-core-sp-500-etf/1467271812596.ajax?fileType=csv&fileName=IVV_holdings&dataType=fund) \n"
   ]
  },
  {
   "cell_type": "code",
   "execution_count": 1,
   "id": "6fceb5bd",
   "metadata": {},
   "outputs": [],
   "source": [
    "import pandas as pd\n",
    "import numpy as np\n",
    "import yfinance as yf"
   ]
  },
  {
   "cell_type": "code",
   "execution_count": 2,
   "id": "bec506e9",
   "metadata": {},
   "outputs": [
    {
     "data": {
      "text/plain": [
       "'1.4.2'"
      ]
     },
     "execution_count": 2,
     "metadata": {},
     "output_type": "execute_result"
    }
   ],
   "source": [
    "# The code breaks with pandas 2.0\n",
    "pd.__version__"
   ]
  },
  {
   "cell_type": "code",
   "execution_count": 3,
   "id": "5d765b7d",
   "metadata": {},
   "outputs": [],
   "source": [
    "df = pd.read_csv(\"IVV_holdings.csv\", skiprows=9)"
   ]
  },
  {
   "cell_type": "code",
   "execution_count": 4,
   "id": "a52fa4c4",
   "metadata": {},
   "outputs": [
    {
     "data": {
      "text/plain": [
       "'AAPL MSFT AMZN NVDA GOOGL GOOG BRKB TSLA META UNH XOM'"
      ]
     },
     "execution_count": 4,
     "metadata": {},
     "output_type": "execute_result"
    }
   ],
   "source": [
    "tickers = df[df.Name.notna()].Ticker\n",
    "tickers = \" \".join([x for x in tickers if x != '-'])\n",
    "tickers[:53]"
   ]
  },
  {
   "cell_type": "code",
   "execution_count": 5,
   "id": "eec50959",
   "metadata": {},
   "outputs": [
    {
     "data": {
      "text/plain": [
       "'BFUT MHK RL NWL DVA ZION FOX LNC FRC DISH NWS ESM'"
      ]
     },
     "execution_count": 5,
     "metadata": {},
     "output_type": "execute_result"
    }
   ],
   "source": [
    "tickers[-50:-1]"
   ]
  },
  {
   "cell_type": "code",
   "execution_count": 6,
   "id": "41f6a18f",
   "metadata": {},
   "outputs": [],
   "source": [
    "bechmarks = \" QQQ SPY IWM LQD HYG TLT VNQ\"\n",
    "\n",
    "tickers = tickers + bechmarks"
   ]
  },
  {
   "cell_type": "code",
   "execution_count": 7,
   "id": "e429d29f",
   "metadata": {},
   "outputs": [
    {
     "name": "stdout",
     "output_type": "stream",
     "text": [
      "[*********************100%***********************]  514 of 514 completed\n",
      "\n",
      "5 Failed downloads:\n",
      "- BRKB: No timezone found, symbol may be delisted\n",
      "- BFB: No timezone found, symbol may be delisted\n",
      "- UBFUT: No timezone found, symbol may be delisted\n",
      "- XTSLA: No timezone found, symbol may be delisted\n",
      "- ESM3: No timezone found, symbol may be delisted\n"
     ]
    }
   ],
   "source": [
    "data = yf.download(tickers = tickers,\n",
    "                   start=\"2005-01-01\",\n",
    "                   end='2023-04-07',\n",
    "                   interval = \"1d\",\n",
    "                   ignore_tz = True,\n",
    "                   auto_adjust=True,\n",
    "                   prepost = False)"
   ]
  },
  {
   "cell_type": "code",
   "execution_count": 8,
   "id": "54008a4a",
   "metadata": {},
   "outputs": [],
   "source": [
    "data['Close'].to_parquet(\"spy_close_adjusted.parquet\")"
   ]
  },
  {
   "cell_type": "code",
   "execution_count": null,
   "id": "105b5db5",
   "metadata": {},
   "outputs": [],
   "source": []
  }
 ],
 "metadata": {
  "hide_input": false,
  "kernelspec": {
   "display_name": "Python 3.9.12 ('base')",
   "language": "python",
   "name": "python3"
  },
  "language_info": {
   "codemirror_mode": {
    "name": "ipython",
    "version": 3
   },
   "file_extension": ".py",
   "mimetype": "text/x-python",
   "name": "python",
   "nbconvert_exporter": "python",
   "pygments_lexer": "ipython3",
   "version": "3.9.12"
  },
  "vscode": {
   "interpreter": {
    "hash": "880686e444e75f7df901bfe619960fe40476e3e20438145ac5c77795109f20d9"
   }
  }
 },
 "nbformat": 4,
 "nbformat_minor": 5
}
